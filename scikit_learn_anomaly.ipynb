{
 "cells": [
  {
   "cell_type": "code",
   "execution_count": 1,
   "metadata": {},
   "outputs": [
    {
     "name": "stderr",
     "output_type": "stream",
     "text": [
      "Using TensorFlow backend.\n"
     ]
    }
   ],
   "source": [
    "from pandas import DataFrame, concat\n",
    "from gensim.models import KeyedVectors, Word2Vec\n",
    "from pathlib import Path\n",
    "import numpy as np\n",
    "\n",
    "from sklearn.model_selection import GridSearchCV\n",
    "from sklearn.manifold import TSNE\n",
    "from sklearn.ensemble import IsolationForest\n",
    "from sklearn.metrics import accuracy_score, make_scorer, f1_score, precision_score\n",
    "from sklearn.svm import OneClassSVM\n",
    "from sklearn.model_selection import train_test_split\n",
    "from sklearn.covariance import EllipticEnvelope\n",
    "from sklearn.neighbors import LocalOutlierFactor\n",
    "from sklearn.linear_model import LogisticRegression\n",
    "from gensim import corpora, models\n",
    "from scipy.spatial.distance import cosine\n",
    "\n",
    "import matplotlib.pyplot as plt\n",
    "import matplotlib.font_manager\n",
    "from matplotlib.colors import Normalize\n",
    "import matplotlib.cm as cm\n",
    "from pylab import get_cmap\n",
    "import seaborn\n",
    "\n",
    "from os import path, makedirs\n",
    "from itertools import combinations\n",
    "from re import sub, compile\n",
    "\n",
    "import pickle\n",
    "from scipy import stats\n",
    "import tensorflow as tf\n",
    "\n",
    "from keras.models import Model, load_model\n",
    "from keras.layers import Input, Dense\n",
    "from keras.callbacks import ModelCheckpoint, TensorBoard\n",
    "from keras import regularizers"
   ]
  },
  {
   "cell_type": "code",
   "execution_count": 2,
   "metadata": {
    "collapsed": true
   },
   "outputs": [],
   "source": [
    "DVACH = '2ch'\n",
    "REDDIT = 'reddit'\n",
    "MTS = 'mts'\n",
    "\n",
    "DATA = REDDIT\n",
    "COMMENT = 'comment'\n",
    "if DATA == REDDIT:\n",
    "    LANG = 'en'\n",
    "else:\n",
    "    LANG = 'ru'"
   ]
  },
  {
   "cell_type": "code",
   "execution_count": 3,
   "metadata": {},
   "outputs": [],
   "source": [
    "from vectorizer import Vectorizer\n",
    "vc = Vectorizer(LANG)"
   ]
  },
  {
   "cell_type": "code",
   "execution_count": 4,
   "metadata": {
    "collapsed": true
   },
   "outputs": [],
   "source": [
    "if not path.exists('figures'):\n",
    "    makedirs('figures')"
   ]
  },
  {
   "cell_type": "code",
   "execution_count": 5,
   "metadata": {
    "collapsed": true
   },
   "outputs": [],
   "source": [
    "def set_plt_params():\n",
    "    plt.figure(figsize=(3, 3))\n",
    "    seaborn.set_style('whitegrid')\n",
    "    plt.grid(False)"
   ]
  },
  {
   "cell_type": "code",
   "execution_count": 6,
   "metadata": {
    "collapsed": true
   },
   "outputs": [],
   "source": [
    "def train_lda_model(texts):\n",
    "    texts = list(map(lambda text: vc.morph_sentence(text), texts))\n",
    "    dictionary = corpora.Dictionary(texts)\n",
    "    corpus = [dictionary.doc2bow(text) for text in texts]\n",
    "    lda = models.LdaModel(corpus, id2word=dictionary, num_topics=1)\n",
    "    return lda\n",
    "\n",
    "def get_lda_topics(lda, num_topics):\n",
    "    r = compile(r'\\W+')\n",
    "    return [[sub(r, '', word.split('*')[1]) for word in topic[1].split(' + ')] \n",
    "          for topic in lda.print_topics(num_topics)][0]"
   ]
  },
  {
   "cell_type": "code",
   "execution_count": 7,
   "metadata": {},
   "outputs": [],
   "source": [
    "UNKNOWN_CLASS = 'UNKNOWN'\n",
    "texts = np.array([])\n",
    "y = []\n",
    "references = []\n",
    "\n",
    "for class_id, name in enumerate([x for x in range(10)]):\n",
    "        df = DataFrame.from_csv(path.join('{}-topics/'.format(DATA), '{}.csv'.format(name)))\n",
    "        temp_texts = vc.make_vectors(df[COMMENT].values)\n",
    "        y += [class_id]*len(temp_texts)\n",
    "        if not texts.any():\n",
    "            texts = temp_texts\n",
    "        else:\n",
    "            texts = np.vstack((texts, temp_texts))\n",
    "        ldam = train_lda_model(df[COMMENT].values)\n",
    "        references.append(' '.join(get_lda_topics(ldam, 1)))\n",
    "        \n",
    "references = vc.make_vectors(references)\n",
    "X_train, X_test, y_train, _ = train_test_split(texts, y, test_size=0.1, random_state=42)\n",
    "\n",
    "df_an = DataFrame.from_csv(path.join('{}-topics/'.format(DATA), '{}.csv'.format(UNKNOWN_CLASS)))\n",
    "X_outliers = vc.make_vectors(df_an[COMMENT].values)\n",
    "X_test = X_test[:len(X_outliers)]"
   ]
  },
  {
   "cell_type": "code",
   "execution_count": 8,
   "metadata": {
    "collapsed": true
   },
   "outputs": [],
   "source": [
    "tsne_model = TSNE(perplexity=40, n_components=2, init='pca', n_iter=2500)\n",
    "regs = tsne_model.fit_transform(np.vstack([X_train,\n",
    "                                           X_test,\n",
    "                                           X_outliers]))"
   ]
  },
  {
   "cell_type": "code",
   "execution_count": 9,
   "metadata": {
    "collapsed": true
   },
   "outputs": [],
   "source": [
    "RANGE = 23\n",
    "DOT_SIZE = 2"
   ]
  },
  {
   "cell_type": "code",
   "execution_count": 10,
   "metadata": {},
   "outputs": [
    {
     "data": {
      "image/png": "[encoded data removed]",
      "text/plain": [
       "<matplotlib.figure.Figure at 0x7eff45e619e8>"
      ]
     },
     "metadata": {},
     "output_type": "display_data"
    }
   ],
   "source": [
    "set_plt_params()\n",
    "\n",
    "for i in regs[:len(X_train)+len(X_test)]:\n",
    "    plt.scatter(i[0],i[1],color='black', s=DOT_SIZE)\n",
    "    \n",
    "for i in regs[len(X_train)+len(X_test):]:\n",
    "    plt.scatter(i[0],i[1],color='red', s=DOT_SIZE)\n",
    "    \n",
    "plt.xlim(-RANGE, RANGE)\n",
    "plt.ylim(-RANGE, RANGE)\n",
    "plt.plot()\n",
    "plt.savefig(path.join('figures', 'anomals.png'))\n",
    "plt.show()"
   ]
  },
  {
   "cell_type": "code",
   "execution_count": 11,
   "metadata": {
    "collapsed": true
   },
   "outputs": [],
   "source": [
    "class StdThresholdClassifier():\n",
    "    def __init__(self, train, threshold=0.23, clf=LogisticRegression(C = 9)):\n",
    "        self._clf = clf\n",
    "        self._threshold = threshold\n",
    "        self._train = train\n",
    "        \n",
    "    def fit(self, X_train):\n",
    "         self._clf.fit(X_train, self._train)\n",
    "            \n",
    "    def predict(self, X):\n",
    "        return [1 if np.std(probs) < self._threshold else -1 for probs in self._clf.predict_proba(X)]"
   ]
  },
  {
   "cell_type": "code",
   "execution_count": 12,
   "metadata": {
    "collapsed": true
   },
   "outputs": [],
   "source": [
    "class CosineThresholdClassifier():\n",
    "    def __init__(self, threshold=0.5):\n",
    "        self._threshold = threshold\n",
    "                 \n",
    "    def _count_cosine(self, vector):\n",
    "        distances = [1 - cosine(vector, reference) for reference in references]\n",
    "        if all(distances) < self._threshold:\n",
    "            return -1\n",
    "        else:\n",
    "            return 1\n",
    "        \n",
    "    def fit(self, X_train):\n",
    "         pass\n",
    "            \n",
    "    def predict(self, X):\n",
    "        return [self._count_cosine(vector) for vector in X]"
   ]
  },
  {
   "cell_type": "code",
   "execution_count": 13,
   "metadata": {
    "collapsed": true
   },
   "outputs": [],
   "source": [
    "class Autoencoder():\n",
    "    def __init__(self, threshold=0.0004,  nb_epoch=50, encoding_dim=14, batch_size=32):\n",
    "        self._input_dim = 0\n",
    "        self._encoding_dim = encoding_dim\n",
    "        self._nb_epoch = nb_epoch\n",
    "        self._batch_size = batch_size\n",
    "        self._threshold = threshold\n",
    "        \n",
    "    def fit(self, X):\n",
    "        X_train, X_test = train_test_split(X, test_size=0.1)\n",
    "        self._input_dim = X_train.shape[1]\n",
    "        input_layer = Input(shape=(self._input_dim, ))\n",
    "        encoder = Dense(self._encoding_dim, activation='tanh', \n",
    "                        activity_regularizer=regularizers.l1(10e-5))(input_layer)\n",
    "        encoder = Dense(int(self._encoding_dim / 2), activation='relu')(encoder)\n",
    "        decoder = Dense(int(self._encoding_dim / 2), activation='tanh')(encoder)\n",
    "        decoder = Dense(self._input_dim, activation='relu')(decoder)\n",
    "        autoencoder = Model(inputs=input_layer, outputs=decoder)\n",
    "        autoencoder.compile(optimizer='adam', \n",
    "                            loss='mean_squared_error', \n",
    "                            metrics=['accuracy'])\n",
    "        checkpointer = ModelCheckpoint(filepath='model.h5',\n",
    "                                       verbose=0,\n",
    "                                       save_best_only=True)\n",
    "        tensorboard = TensorBoard(log_dir='./logs',\n",
    "                                  histogram_freq=0,\n",
    "                                  write_graph=True,\n",
    "                                  write_images=True)\n",
    "        history = autoencoder.fit(X_train, X_train,\n",
    "                            epochs=self._nb_epoch,\n",
    "                            batch_size=self._batch_size,\n",
    "                            shuffle=True,\n",
    "                            validation_data=(X_test, X_test),\n",
    "                            verbose=0,\n",
    "                            callbacks=[checkpointer, tensorboard]).history\n",
    "        self._autoencoder = load_model('model.h5')\n",
    "    \n",
    "\n",
    "    def predict(self, X_test):\n",
    "        predictions = self._autoencoder.predict(X_test)\n",
    "        mse = np.mean(np.power(X_test - predictions, 2), axis=1)\n",
    "        return [1 if x < self._threshold else -1 for x in mse]"
   ]
  },
  {
   "cell_type": "code",
   "execution_count": 14,
   "metadata": {},
   "outputs": [
    {
     "name": "stdout",
     "output_type": "stream",
     "text": [
      "OneClassSVM\n",
      "Accuracy on test=1.00, on anomals=0.00, overall=0.50\n",
      "\n",
      "IsolationForest\n",
      "Accuracy on test=0.10, on anomals=0.85, overall=0.47\n",
      "\n",
      "LocalOutlierFactor\n",
      "Accuracy on test=0.08, on anomals=0.87, overall=0.47\n",
      "\n",
      "STDThreshold\n",
      "Accuracy on test=0.53, on anomals=0.82, overall=0.68\n",
      "\n",
      "CosineThreshold\n",
      "Accuracy on test=0.00, on anomals=1.00, overall=0.50\n",
      "\n",
      "Autoencoder\n",
      "Accuracy on test=0.00, on anomals=1.00, overall=0.50\n",
      "\n"
     ]
    }
   ],
   "source": [
    "for classifier_name, classifier in [\n",
    "                    ('OneClassSVM', OneClassSVM(kernel='poly', nu=1e-4, gamma=1e-4)), \n",
    "                    ('IsolationForest', IsolationForest(n_estimators=10, bootstrap=False,random_state=0)),\n",
    "                    #('EllipticEnvelope', EllipticEnvelope(contamination=0.5, assume_centered=False, support_fraction=0.5)),\n",
    "                    ('LocalOutlierFactor', LocalOutlierFactor(n_neighbors=1, metric='cosine', algorithm='brute')),\n",
    "                    ('STDThreshold', StdThresholdClassifier(y_train, 0.2, LogisticRegression(C = 9))),\n",
    "                    ('CosineThreshold', CosineThresholdClassifier(0.3)),\n",
    "                    ('Autoencoder', Autoencoder(0.2, 50, 10, 10))\n",
    "                    ]:\n",
    "    clf = classifier\n",
    "    if classifier_name == 'LocalOutlierFactor':\n",
    "        y = clf.fit_predict(np.r_[X_train, X_test, X_outliers])\n",
    "        y_pred_train = y[:len(X_train)]\n",
    "        y_pred_test = y[len(X_train):len(X_train) + len(X_test)]\n",
    "        y_pred_outliers = y[len(X_train) + len(X_test):]\n",
    "    elif classifier_name == 'Autoencoder':\n",
    "        clf.fit(X_train)\n",
    "        y_pred_train = clf.predict(np.array(X_train))\n",
    "        y_pred_test = clf.predict(np.array(X_test))\n",
    "        y_pred_outliers = clf.predict(np.array(X_outliers))\n",
    "    else:\n",
    "        clf.fit(X_train)\n",
    "        y_pred_train = clf.predict(np.array(X_train))\n",
    "        y_pred_test = clf.predict(np.array(X_test))\n",
    "        y_pred_outliers = clf.predict(np.array(X_outliers))\n",
    "\n",
    "    print(classifier_name)\n",
    "    print('Accuracy on test={:0.2f}, on anomals={:0.2f}, overall={:0.2f}'.format(\n",
    "        accuracy_score(y_pred_test, np.negative(np.ones(shape=len(X_test)))),\n",
    "        accuracy_score(y_pred_outliers, np.ones(shape=len(y_pred_outliers))),\n",
    "        accuracy_score(np.hstack([y_pred_test, y_pred_outliers]),\n",
    "        np.hstack([np.negative(np.ones(shape=len(X_test))), \n",
    "                                   np.ones(shape=len(X_outliers))]))))\n",
    "    set_plt_params()\n",
    "    print()\n",
    "    [plt.scatter(i[0],i[1],color='black',s=DOT_SIZE) if y_pred_train[ind] == 1 else \n",
    "     plt.scatter(i[0],i[1],color='red', s=DOT_SIZE) for ind, i in enumerate(regs[:len(X_train)])]\n",
    "    [plt.scatter(i[0],i[1],color='black', s=DOT_SIZE) if y_pred_test[ind] == 1 else \n",
    "     plt.scatter(i[0],i[1],color='red', s=DOT_SIZE) for ind, i in enumerate(regs[len(X_train):len(X_train)+len(X_test)])]\n",
    "    [plt.scatter(i[0],i[1],color='black', s=DOT_SIZE) if y_pred_outliers[ind] == 1 else \n",
    "     plt.scatter(i[0],i[1],color='red', s=DOT_SIZE) for ind, i in enumerate(regs[len(X_train)+len(X_test):])]\n",
    "    plt.xlim(-RANGE, RANGE)\n",
    "    plt.ylim(-RANGE, RANGE)\n",
    "    plt.plot()\n",
    "    plt.savefig(path.join('figures', 'anomaly_on_{}.png').format(classifier_name.lower()))"
   ]
  },
  {
   "cell_type": "code",
   "execution_count": 16,
   "metadata": {},
   "outputs": [
    {
     "name": "stdout",
     "output_type": "stream",
     "text": [
      "OneClassSVM\n",
      "Accuracy on test=0.87, on anomals=0.19, overall=0.53\n",
      "\n",
      "IsolationForest\n",
      "Accuracy on test=0.08, on anomals=0.86, overall=0.47\n",
      "\n",
      "LocalOutlierFactor\n",
      "Accuracy on test=0.08, on anomals=0.87, overall=0.47\n",
      "\n",
      "STDThreshold\n",
      "Accuracy on test=0.82, on anomals=0.60, overall=0.71\n",
      "\n",
      "CosineThreshold\n",
      "Accuracy on test=0.00, on anomals=1.00, overall=0.50\n",
      "\n",
      "Autoencoder\n",
      "Accuracy on test=0.02, on anomals=0.98, overall=0.50\n",
      "\n"
     ]
    }
   ],
   "source": [
    "for classifier_name, classifier in [\n",
    "                    ('OneClassSVM', OneClassSVM(kernel='linear', nu=0.9, gamma=100)), \n",
    "                    ('IsolationForest', IsolationForest(n_estimators=60, bootstrap=True,random_state=0)),\n",
    "                    #('EllipticEnvelope', EllipticEnvelope(contamination=0.5, assume_centered=True, support_fraction=0.5)),\n",
    "                    ('LocalOutlierFactor', LocalOutlierFactor(n_neighbors=1, metric='cosine', algorithm='brute')),\n",
    "                    ('STDThreshold', StdThresholdClassifier(y_train, 0.15, LogisticRegression(C = 9))),\n",
    "                    ('CosineThreshold', CosineThresholdClassifier(0.2)),\n",
    "                    ('Autoencoder', Autoencoder(0.0088, 50, 50, 20))\n",
    "                    ]:\n",
    "    clf = classifier\n",
    "    if classifier_name == 'LocalOutlierFactor':\n",
    "        y = clf.fit_predict(np.r_[X_train, X_test, X_outliers])\n",
    "        y_pred_train = y[:len(X_train)]\n",
    "        y_pred_test = y[len(X_train):len(X_train) + len(X_test)]\n",
    "        y_pred_outliers = y[len(X_train) + len(X_test):]\n",
    "    else:\n",
    "        clf.fit(X_train)\n",
    "        y_pred_train = clf.predict(np.array(X_train))\n",
    "        y_pred_test = clf.predict(np.array(X_test))\n",
    "        y_pred_outliers = clf.predict(np.array(X_outliers))\n",
    "\n",
    "    print(classifier_name)\n",
    "    print('Accuracy on test={:0.2f}, on anomals={:0.2f}, overall={:0.2f}'.format(\n",
    "        accuracy_score(y_pred_test, np.negative(np.ones(shape=len(X_test)))),\n",
    "        accuracy_score(y_pred_outliers, np.ones(shape=len(y_pred_outliers))),\n",
    "        accuracy_score(np.hstack([y_pred_test, y_pred_outliers]),\n",
    "        np.hstack([np.negative(np.ones(shape=len(X_test))), \n",
    "                                   np.ones(shape=len(X_outliers))]))))\n",
    "    set_plt_params()\n",
    "    print()\n",
    "    [plt.scatter(i[0],i[1],color='black',s=DOT_SIZE) if y_pred_train[ind] == 1 else \n",
    "     plt.scatter(i[0],i[1],color='red', s=DOT_SIZE) for ind, i in enumerate(regs[:len(X_train)])]\n",
    "    [plt.scatter(i[0],i[1],color='black', s=DOT_SIZE) if y_pred_test[ind] == 1 else \n",
    "     plt.scatter(i[0],i[1],color='red', s=DOT_SIZE) for ind, i in enumerate(regs[len(X_train):len(X_train)+len(X_test)])]\n",
    "    [plt.scatter(i[0],i[1],color='black', s=DOT_SIZE) if y_pred_outliers[ind] == 1 else \n",
    "     plt.scatter(i[0],i[1],color='red', s=DOT_SIZE) for ind, i in enumerate(regs[len(X_train)+len(X_test):])]\n",
    "    plt.xlim(-RANGE, RANGE)\n",
    "    plt.ylim(-RANGE, RANGE)\n",
    "    plt.plot()\n",
    "    plt.savefig(path.join('figures', 'anomaly_on_{}.png').format(classifier_name.lower()))\n"
   ]
  },
  {
   "cell_type": "code",
   "execution_count": null,
   "metadata": {
    "collapsed": true
   },
   "outputs": [],
   "source": [
    "gamma_range = np.arange(0.5, 5, 0.1)\n",
    "nu_range = np.arange(1e-2, 0.3, 1e-2)\n",
    "\n",
    "tuned_parameters = [{'kernel': ['rbf'], 'gamma':  gamma_range,\n",
    "                    'nu': nu_range},\n",
    "                   ]\n",
    "\n",
    "clf = GridSearchCV(OneClassSVM(), tuned_parameters, \n",
    "                    scoring=(lambda estimator, train_set, target_set: \n",
    "                    accuracy_score(estimator.fit(train_set).predict(texts_reg_test + \n",
    "                                                                   texts_anomal), \n",
    "                    np.hstack([np.negative(np.ones(shape=len(texts_reg_test))), \n",
    "                               np.ones(shape=len(texts_anomal))]))))\n",
    "\n",
    "print('Grid scores:')\n",
    "means = clf.cv_results_['mean_test_score']\n",
    "stds = clf.cv_results_['std_test_score']\n",
    "for mean, std, params in zip(means, stds, clf.cv_results_['params']):\n",
    "    print('{:0.3f} (+/-{:0.03f} for {})'.format(mean, std*2, params))"
   ]
  },
  {
   "cell_type": "code",
   "execution_count": null,
   "metadata": {
    "collapsed": true
   },
   "outputs": [],
   "source": [
    "scores = clf.cv_results_['mean_test_score'].reshape(len(nu_range), \n",
    "                                                       len(gamma_range))\n",
    "plt.figure(figsize=(8, 6))\n",
    "plt.subplots_adjust(left=.2, right=0.95, bottom=0.15, top=0.95)\n",
    "plt.imshow(scores, interpolation='nearest', cmap=get_cmap(\"Spectral\"),\n",
    "           norm=MidpointNormalize(vmin=0.5, midpoint=0.6))\n",
    "plt.xlabel('gamma')\n",
    "plt.ylabel('nu')\n",
    "plt.colorbar()\n",
    "plt.xticks(np.arange(len(gamma_range)), gamma_range, rotation=45)\n",
    "plt.yticks(np.arange(len(nu_range)), nu_range)\n",
    "#plt.title('Gridsearch Heatmap on RBF Kernel')\n",
    "plt.show()"
   ]
  },
  {
   "cell_type": "code",
   "execution_count": null,
   "metadata": {
    "collapsed": true
   },
   "outputs": [],
   "source": [
    " "
   ]
  }
 ],
 "metadata": {
  "kernelspec": {
   "display_name": "Python 3",
   "language": "python",
   "name": "python3"
  },
  "language_info": {
   "codemirror_mode": {
    "name": "ipython",
    "version": 3
   },
   "file_extension": ".py",
   "mimetype": "text/x-python",
   "name": "python",
   "nbconvert_exporter": "python",
   "pygments_lexer": "ipython3",
   "version": "3.6.1"
  }
 },
 "nbformat": 4,
 "nbformat_minor": 2
}
